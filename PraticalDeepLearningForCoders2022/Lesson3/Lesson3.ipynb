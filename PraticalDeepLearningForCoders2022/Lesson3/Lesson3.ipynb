{
 "cells": [
  {
   "cell_type": "code",
   "execution_count": 201,
   "id": "f61db479-a77a-4fc4-8d63-35e515378658",
   "metadata": {},
   "outputs": [],
   "source": [
    "#https://github.com/fastai/fastbook/blob/master/04_mnist_basics.ipynb\n",
    "#https://www.youtube.com/watch?v=hBBOjCiFcuo\n",
    "import fastbook"
   ]
  },
  {
   "cell_type": "code",
   "execution_count": 202,
   "id": "c793e660-8239-4d3f-a39a-ddd6aca377ac",
   "metadata": {},
   "outputs": [],
   "source": [
    "from fastai.vision.all import *\n",
    "from fastbook import *"
   ]
  },
  {
   "cell_type": "code",
   "execution_count": 203,
   "id": "b5520370-c4ed-49fb-883f-8b6a4880f702",
   "metadata": {},
   "outputs": [],
   "source": [
    "#matplotlib runtime configuration\n",
    "#https://matplotlib.org/stable/users/explain/customizing.html\n",
    "#https://matplotlib.org/stable/api/_as_gen/matplotlib.pyplot.rc.html\n",
    "matplotlib.rc('image', cmap='Greys')"
   ]
  },
  {
   "cell_type": "code",
   "execution_count": 204,
   "id": "c969d662-b459-40b9-8686-f6ac1ca0560f",
   "metadata": {},
   "outputs": [],
   "source": [
    "path = untar_data(URLs.MNIST_SAMPLE)"
   ]
  },
  {
   "cell_type": "code",
   "execution_count": 205,
   "id": "54e1931a-c59b-459d-94d6-4f73f79c1cb9",
   "metadata": {},
   "outputs": [],
   "source": [
    "Path.BASE_PATH = path"
   ]
  },
  {
   "cell_type": "code",
   "execution_count": 206,
   "id": "c961183c-3666-4612-a24c-2f1545beda8b",
   "metadata": {},
   "outputs": [
    {
     "data": {
      "text/plain": [
       "(#3) [Path('train'),Path('valid'),Path('labels.csv')]"
      ]
     },
     "execution_count": 206,
     "metadata": {},
     "output_type": "execute_result"
    }
   ],
   "source": [
    "path.ls()"
   ]
  },
  {
   "cell_type": "code",
   "execution_count": 207,
   "id": "b68c0da7-86ad-4db1-8c77-25de458cf934",
   "metadata": {},
   "outputs": [
    {
     "data": {
      "text/plain": [
       "(#2) [Path('train/3'),Path('train/7')]"
      ]
     },
     "execution_count": 207,
     "metadata": {},
     "output_type": "execute_result"
    }
   ],
   "source": [
    "(path/'train').ls()"
   ]
  },
  {
   "cell_type": "code",
   "execution_count": 208,
   "id": "1157acb7-0b1c-4917-847f-c064dbab9953",
   "metadata": {},
   "outputs": [
    {
     "data": {
      "text/plain": [
       "(#6131) [Path('train/3/10.png'),Path('train/3/10000.png'),Path('train/3/10011.png'),Path('train/3/10031.png'),Path('train/3/10034.png'),Path('train/3/10042.png'),Path('train/3/10052.png'),Path('train/3/1007.png'),Path('train/3/10074.png'),Path('train/3/10091.png')...]"
      ]
     },
     "execution_count": 208,
     "metadata": {},
     "output_type": "execute_result"
    }
   ],
   "source": [
    "#new sorted list\n",
    "threes = (path/'train'/'3').ls().sorted()\n",
    "sevens = (path/'train'/'7').ls().sorted()\n",
    "threes"
   ]
  },
  {
   "cell_type": "code",
   "execution_count": 209,
   "id": "cd6e9ecd-d219-4994-8f80-812d1c059d0d",
   "metadata": {},
   "outputs": [
    {
     "data": {
      "image/png": "[encoded data removed]",
      "text/plain": [
       "<PIL.PngImagePlugin.PngImageFile image mode=L size=28x28>"
      ]
     },
     "execution_count": 209,
     "metadata": {},
     "output_type": "execute_result"
    }
   ],
   "source": [
    "im_path = threes[1]\n",
    "im3 = Image.open(im_path)\n",
    "im3"
   ]
  },
  {
   "cell_type": "code",
   "execution_count": 210,
   "id": "60120f93-0560-428c-90a3-7b3048a8a96a",
   "metadata": {},
   "outputs": [
    {
     "data": {
      "text/plain": [
       "array([[  0,   0,   0,   0,   0,   0],\n",
       "       [  0,   0,   0,   0,   0,  29],\n",
       "       [  0,   0,   0,  48, 166, 224],\n",
       "       [  0,  93, 244, 249, 253, 187],\n",
       "       [  0, 107, 253, 253, 230,  48],\n",
       "       [  0,   3,  20,  20,  15,   0]], dtype=uint8)"
      ]
     },
     "execution_count": 210,
     "metadata": {},
     "output_type": "execute_result"
    }
   ],
   "source": [
    "array(im3)[4:10,4:10]"
   ]
  },
  {
   "cell_type": "code",
   "execution_count": 211,
   "id": "c81b112d-342b-4dc7-8934-b8ca2cbbf758",
   "metadata": {},
   "outputs": [
    {
     "data": {
      "text/plain": [
       "tensor([[  0,   0,   0,   0,   0,   0],\n",
       "        [  0,   0,   0,   0,   0,  29],\n",
       "        [  0,   0,   0,  48, 166, 224],\n",
       "        [  0,  93, 244, 249, 253, 187],\n",
       "        [  0, 107, 253, 253, 230,  48],\n",
       "        [  0,   3,  20,  20,  15,   0]], dtype=torch.uint8)"
      ]
     },
     "execution_count": 211,
     "metadata": {},
     "output_type": "execute_result"
    }
   ],
   "source": [
    "tensor(im3)[4:10,4:10]"
   ]
  },
  {
   "cell_type": "code",
   "execution_count": 212,
   "id": "8d93e780-355c-493d-b456-1d6790185ce5",
   "metadata": {},
   "outputs": [
    {
     "data": {
      "text/html": [
       "<style type=\"text/css\">\n",
       "#T_a2a1c_row0_col0, #T_a2a1c_row0_col1, #T_a2a1c_row0_col2, #T_a2a1c_row0_col3, #T_a2a1c_row0_col4, #T_a2a1c_row0_col5, #T_a2a1c_row0_col6, #T_a2a1c_row0_col7, #T_a2a1c_row0_col8, #T_a2a1c_row0_col9, #T_a2a1c_row0_col10, #T_a2a1c_row0_col11, #T_a2a1c_row0_col12, #T_a2a1c_row0_col13, #T_a2a1c_row0_col14, #T_a2a1c_row0_col15, #T_a2a1c_row0_col16, #T_a2a1c_row0_col17, #T_a2a1c_row1_col0, #T_a2a1c_row1_col1, #T_a2a1c_row1_col2, #T_a2a1c_row1_col3, #T_a2a1c_row1_col4, #T_a2a1c_row1_col15, #T_a2a1c_row1_col16, #T_a2a1c_row1_col17, #T_a2a1c_row2_col0, #T_a2a1c_row2_col1, #T_a2a1c_row2_col2, #T_a2a1c_row2_col15, #T_a2a1c_row2_col16, #T_a2a1c_row2_col17, #T_a2a1c_row3_col0, #T_a2a1c_row3_col15, #T_a2a1c_row3_col16, #T_a2a1c_row3_col17, #T_a2a1c_row4_col0, #T_a2a1c_row4_col6, #T_a2a1c_row4_col7, #T_a2a1c_row4_col8, #T_a2a1c_row4_col9, #T_a2a1c_row4_col10, #T_a2a1c_row4_col15, #T_a2a1c_row4_col16, #T_a2a1c_row4_col17, #T_a2a1c_row5_col0, #T_a2a1c_row5_col5, #T_a2a1c_row5_col6, #T_a2a1c_row5_col7, #T_a2a1c_row5_col8, #T_a2a1c_row5_col9, #T_a2a1c_row5_col15, #T_a2a1c_row5_col16, #T_a2a1c_row5_col17, #T_a2a1c_row6_col0, #T_a2a1c_row6_col1, #T_a2a1c_row6_col2, #T_a2a1c_row6_col3, #T_a2a1c_row6_col4, #T_a2a1c_row6_col5, #T_a2a1c_row6_col6, #T_a2a1c_row6_col7, #T_a2a1c_row6_col8, #T_a2a1c_row6_col9, #T_a2a1c_row6_col14, #T_a2a1c_row6_col15, #T_a2a1c_row6_col16, #T_a2a1c_row6_col17, #T_a2a1c_row7_col0, #T_a2a1c_row7_col1, #T_a2a1c_row7_col2, #T_a2a1c_row7_col3, #T_a2a1c_row7_col4, #T_a2a1c_row7_col5, #T_a2a1c_row7_col6, #T_a2a1c_row7_col13, #T_a2a1c_row7_col14, #T_a2a1c_row7_col15, #T_a2a1c_row7_col16, #T_a2a1c_row7_col17, #T_a2a1c_row8_col0, #T_a2a1c_row8_col1, #T_a2a1c_row8_col2, #T_a2a1c_row8_col3, #T_a2a1c_row8_col4, #T_a2a1c_row8_col13, #T_a2a1c_row8_col14, #T_a2a1c_row8_col15, #T_a2a1c_row8_col16, #T_a2a1c_row8_col17, #T_a2a1c_row9_col0, #T_a2a1c_row9_col1, #T_a2a1c_row9_col2, #T_a2a1c_row9_col3, #T_a2a1c_row9_col4, #T_a2a1c_row9_col16, #T_a2a1c_row9_col17, #T_a2a1c_row10_col0, #T_a2a1c_row10_col1, #T_a2a1c_row10_col2, #T_a2a1c_row10_col3, #T_a2a1c_row10_col4, #T_a2a1c_row10_col5, #T_a2a1c_row10_col6, #T_a2a1c_row10_col17 {\n",
       "  font-size: 6pt;\n",
       "  background-color: #ffffff;\n",
       "  color: #000000;\n",
       "}\n",
       "#T_a2a1c_row1_col5 {\n",
       "  font-size: 6pt;\n",
       "  background-color: #efefef;\n",
       "  color: #000000;\n",
       "}\n",
       "#T_a2a1c_row1_col6, #T_a2a1c_row1_col13 {\n",
       "  font-size: 6pt;\n",
       "  background-color: #7c7c7c;\n",
       "  color: #f1f1f1;\n",
       "}\n",
       "#T_a2a1c_row1_col7 {\n",
       "  font-size: 6pt;\n",
       "  background-color: #4a4a4a;\n",
       "  color: #f1f1f1;\n",
       "}\n",
       "#T_a2a1c_row1_col8, #T_a2a1c_row1_col9, #T_a2a1c_row1_col10, #T_a2a1c_row2_col5, #T_a2a1c_row2_col6, #T_a2a1c_row2_col7, #T_a2a1c_row2_col11, #T_a2a1c_row2_col12, #T_a2a1c_row2_col13, #T_a2a1c_row3_col4, #T_a2a1c_row3_col12, #T_a2a1c_row3_col13, #T_a2a1c_row4_col1, #T_a2a1c_row4_col2, #T_a2a1c_row4_col3, #T_a2a1c_row4_col12, #T_a2a1c_row4_col13, #T_a2a1c_row5_col12, #T_a2a1c_row6_col11, #T_a2a1c_row9_col11, #T_a2a1c_row10_col11, #T_a2a1c_row10_col12, #T_a2a1c_row10_col13, #T_a2a1c_row10_col14, #T_a2a1c_row10_col15, #T_a2a1c_row10_col16 {\n",
       "  font-size: 6pt;\n",
       "  background-color: #000000;\n",
       "  color: #f1f1f1;\n",
       "}\n",
       "#T_a2a1c_row1_col11 {\n",
       "  font-size: 6pt;\n",
       "  background-color: #606060;\n",
       "  color: #f1f1f1;\n",
       "}\n",
       "#T_a2a1c_row1_col12 {\n",
       "  font-size: 6pt;\n",
       "  background-color: #4d4d4d;\n",
       "  color: #f1f1f1;\n",
       "}\n",
       "#T_a2a1c_row1_col14 {\n",
       "  font-size: 6pt;\n",
       "  background-color: #bbbbbb;\n",
       "  color: #000000;\n",
       "}\n",
       "#T_a2a1c_row2_col3 {\n",
       "  font-size: 6pt;\n",
       "  background-color: #e4e4e4;\n",
       "  color: #000000;\n",
       "}\n",
       "#T_a2a1c_row2_col4, #T_a2a1c_row8_col6 {\n",
       "  font-size: 6pt;\n",
       "  background-color: #6b6b6b;\n",
       "  color: #f1f1f1;\n",
       "}\n",
       "#T_a2a1c_row2_col8, #T_a2a1c_row2_col14, #T_a2a1c_row3_col14 {\n",
       "  font-size: 6pt;\n",
       "  background-color: #171717;\n",
       "  color: #f1f1f1;\n",
       "}\n",
       "#T_a2a1c_row2_col9, #T_a2a1c_row3_col11 {\n",
       "  font-size: 6pt;\n",
       "  background-color: #4b4b4b;\n",
       "  color: #f1f1f1;\n",
       "}\n",
       "#T_a2a1c_row2_col10, #T_a2a1c_row7_col10, #T_a2a1c_row8_col8, #T_a2a1c_row8_col10, #T_a2a1c_row9_col8, #T_a2a1c_row9_col10 {\n",
       "  font-size: 6pt;\n",
       "  background-color: #010101;\n",
       "  color: #f1f1f1;\n",
       "}\n",
       "#T_a2a1c_row3_col1 {\n",
       "  font-size: 6pt;\n",
       "  background-color: #272727;\n",
       "  color: #f1f1f1;\n",
       "}\n",
       "#T_a2a1c_row3_col2 {\n",
       "  font-size: 6pt;\n",
       "  background-color: #0a0a0a;\n",
       "  color: #f1f1f1;\n",
       "}\n",
       "#T_a2a1c_row3_col3 {\n",
       "  font-size: 6pt;\n",
       "  background-color: #050505;\n",
       "  color: #f1f1f1;\n",
       "}\n",
       "#T_a2a1c_row3_col5 {\n",
       "  font-size: 6pt;\n",
       "  background-color: #333333;\n",
       "  color: #f1f1f1;\n",
       "}\n",
       "#T_a2a1c_row3_col6 {\n",
       "  font-size: 6pt;\n",
       "  background-color: #e6e6e6;\n",
       "  color: #000000;\n",
       "}\n",
       "#T_a2a1c_row3_col7, #T_a2a1c_row3_col10 {\n",
       "  font-size: 6pt;\n",
       "  background-color: #fafafa;\n",
       "  color: #000000;\n",
       "}\n",
       "#T_a2a1c_row3_col8 {\n",
       "  font-size: 6pt;\n",
       "  background-color: #fbfbfb;\n",
       "  color: #000000;\n",
       "}\n",
       "#T_a2a1c_row3_col9 {\n",
       "  font-size: 6pt;\n",
       "  background-color: #fdfdfd;\n",
       "  color: #000000;\n",
       "}\n",
       "#T_a2a1c_row4_col4 {\n",
       "  font-size: 6pt;\n",
       "  background-color: #1b1b1b;\n",
       "  color: #f1f1f1;\n",
       "}\n",
       "#T_a2a1c_row4_col5 {\n",
       "  font-size: 6pt;\n",
       "  background-color: #e0e0e0;\n",
       "  color: #000000;\n",
       "}\n",
       "#T_a2a1c_row4_col11 {\n",
       "  font-size: 6pt;\n",
       "  background-color: #4e4e4e;\n",
       "  color: #f1f1f1;\n",
       "}\n",
       "#T_a2a1c_row4_col14 {\n",
       "  font-size: 6pt;\n",
       "  background-color: #767676;\n",
       "  color: #f1f1f1;\n",
       "}\n",
       "#T_a2a1c_row5_col1 {\n",
       "  font-size: 6pt;\n",
       "  background-color: #fcfcfc;\n",
       "  color: #000000;\n",
       "}\n",
       "#T_a2a1c_row5_col2, #T_a2a1c_row5_col3 {\n",
       "  font-size: 6pt;\n",
       "  background-color: #f6f6f6;\n",
       "  color: #000000;\n",
       "}\n",
       "#T_a2a1c_row5_col4, #T_a2a1c_row7_col7 {\n",
       "  font-size: 6pt;\n",
       "  background-color: #f8f8f8;\n",
       "  color: #000000;\n",
       "}\n",
       "#T_a2a1c_row5_col10, #T_a2a1c_row10_col7 {\n",
       "  font-size: 6pt;\n",
       "  background-color: #e8e8e8;\n",
       "  color: #000000;\n",
       "}\n",
       "#T_a2a1c_row5_col11 {\n",
       "  font-size: 6pt;\n",
       "  background-color: #222222;\n",
       "  color: #f1f1f1;\n",
       "}\n",
       "#T_a2a1c_row5_col13, #T_a2a1c_row6_col12 {\n",
       "  font-size: 6pt;\n",
       "  background-color: #090909;\n",
       "  color: #f1f1f1;\n",
       "}\n",
       "#T_a2a1c_row5_col14 {\n",
       "  font-size: 6pt;\n",
       "  background-color: #d0d0d0;\n",
       "  color: #000000;\n",
       "}\n",
       "#T_a2a1c_row6_col10, #T_a2a1c_row7_col11, #T_a2a1c_row9_col6 {\n",
       "  font-size: 6pt;\n",
       "  background-color: #060606;\n",
       "  color: #f1f1f1;\n",
       "}\n",
       "#T_a2a1c_row6_col13 {\n",
       "  font-size: 6pt;\n",
       "  background-color: #979797;\n",
       "  color: #f1f1f1;\n",
       "}\n",
       "#T_a2a1c_row7_col8 {\n",
       "  font-size: 6pt;\n",
       "  background-color: #b6b6b6;\n",
       "  color: #000000;\n",
       "}\n",
       "#T_a2a1c_row7_col9 {\n",
       "  font-size: 6pt;\n",
       "  background-color: #252525;\n",
       "  color: #f1f1f1;\n",
       "}\n",
       "#T_a2a1c_row7_col12 {\n",
       "  font-size: 6pt;\n",
       "  background-color: #999999;\n",
       "  color: #f1f1f1;\n",
       "}\n",
       "#T_a2a1c_row8_col5 {\n",
       "  font-size: 6pt;\n",
       "  background-color: #f9f9f9;\n",
       "  color: #000000;\n",
       "}\n",
       "#T_a2a1c_row8_col7 {\n",
       "  font-size: 6pt;\n",
       "  background-color: #101010;\n",
       "  color: #f1f1f1;\n",
       "}\n",
       "#T_a2a1c_row8_col9, #T_a2a1c_row9_col9 {\n",
       "  font-size: 6pt;\n",
       "  background-color: #020202;\n",
       "  color: #f1f1f1;\n",
       "}\n",
       "#T_a2a1c_row8_col11 {\n",
       "  font-size: 6pt;\n",
       "  background-color: #545454;\n",
       "  color: #f1f1f1;\n",
       "}\n",
       "#T_a2a1c_row8_col12 {\n",
       "  font-size: 6pt;\n",
       "  background-color: #f1f1f1;\n",
       "  color: #000000;\n",
       "}\n",
       "#T_a2a1c_row9_col5 {\n",
       "  font-size: 6pt;\n",
       "  background-color: #f7f7f7;\n",
       "  color: #000000;\n",
       "}\n",
       "#T_a2a1c_row9_col7 {\n",
       "  font-size: 6pt;\n",
       "  background-color: #030303;\n",
       "  color: #f1f1f1;\n",
       "}\n",
       "#T_a2a1c_row9_col12 {\n",
       "  font-size: 6pt;\n",
       "  background-color: #181818;\n",
       "  color: #f1f1f1;\n",
       "}\n",
       "#T_a2a1c_row9_col13 {\n",
       "  font-size: 6pt;\n",
       "  background-color: #303030;\n",
       "  color: #f1f1f1;\n",
       "}\n",
       "#T_a2a1c_row9_col14 {\n",
       "  font-size: 6pt;\n",
       "  background-color: #a9a9a9;\n",
       "  color: #f1f1f1;\n",
       "}\n",
       "#T_a2a1c_row9_col15 {\n",
       "  font-size: 6pt;\n",
       "  background-color: #fefefe;\n",
       "  color: #000000;\n",
       "}\n",
       "#T_a2a1c_row10_col8, #T_a2a1c_row10_col9 {\n",
       "  font-size: 6pt;\n",
       "  background-color: #bababa;\n",
       "  color: #000000;\n",
       "}\n",
       "#T_a2a1c_row10_col10 {\n",
       "  font-size: 6pt;\n",
       "  background-color: #393939;\n",
       "  color: #f1f1f1;\n",
       "}\n",
       "</style>\n",
       "<table id=\"T_a2a1c\">\n",
       "  <thead>\n",
       "    <tr>\n",
       "      <th class=\"blank level0\" >&nbsp;</th>\n",
       "      <th id=\"T_a2a1c_level0_col0\" class=\"col_heading level0 col0\" >0</th>\n",
       "      <th id=\"T_a2a1c_level0_col1\" class=\"col_heading level0 col1\" >1</th>\n",
       "      <th id=\"T_a2a1c_level0_col2\" class=\"col_heading level0 col2\" >2</th>\n",
       "      <th id=\"T_a2a1c_level0_col3\" class=\"col_heading level0 col3\" >3</th>\n",
       "      <th id=\"T_a2a1c_level0_col4\" class=\"col_heading level0 col4\" >4</th>\n",
       "      <th id=\"T_a2a1c_level0_col5\" class=\"col_heading level0 col5\" >5</th>\n",
       "      <th id=\"T_a2a1c_level0_col6\" class=\"col_heading level0 col6\" >6</th>\n",
       "      <th id=\"T_a2a1c_level0_col7\" class=\"col_heading level0 col7\" >7</th>\n",
       "      <th id=\"T_a2a1c_level0_col8\" class=\"col_heading level0 col8\" >8</th>\n",
       "      <th id=\"T_a2a1c_level0_col9\" class=\"col_heading level0 col9\" >9</th>\n",
       "      <th id=\"T_a2a1c_level0_col10\" class=\"col_heading level0 col10\" >10</th>\n",
       "      <th id=\"T_a2a1c_level0_col11\" class=\"col_heading level0 col11\" >11</th>\n",
       "      <th id=\"T_a2a1c_level0_col12\" class=\"col_heading level0 col12\" >12</th>\n",
       "      <th id=\"T_a2a1c_level0_col13\" class=\"col_heading level0 col13\" >13</th>\n",
       "      <th id=\"T_a2a1c_level0_col14\" class=\"col_heading level0 col14\" >14</th>\n",
       "      <th id=\"T_a2a1c_level0_col15\" class=\"col_heading level0 col15\" >15</th>\n",
       "      <th id=\"T_a2a1c_level0_col16\" class=\"col_heading level0 col16\" >16</th>\n",
       "      <th id=\"T_a2a1c_level0_col17\" class=\"col_heading level0 col17\" >17</th>\n",
       "    </tr>\n",
       "  </thead>\n",
       "  <tbody>\n",
       "    <tr>\n",
       "      <th id=\"T_a2a1c_level0_row0\" class=\"row_heading level0 row0\" >0</th>\n",
       "      <td id=\"T_a2a1c_row0_col0\" class=\"data row0 col0\" >0</td>\n",
       "      <td id=\"T_a2a1c_row0_col1\" class=\"data row0 col1\" >0</td>\n",
       "      <td id=\"T_a2a1c_row0_col2\" class=\"data row0 col2\" >0</td>\n",
       "      <td id=\"T_a2a1c_row0_col3\" class=\"data row0 col3\" >0</td>\n",
       "      <td id=\"T_a2a1c_row0_col4\" class=\"data row0 col4\" >0</td>\n",
       "      <td id=\"T_a2a1c_row0_col5\" class=\"data row0 col5\" >0</td>\n",
       "      <td id=\"T_a2a1c_row0_col6\" class=\"data row0 col6\" >0</td>\n",
       "      <td id=\"T_a2a1c_row0_col7\" class=\"data row0 col7\" >0</td>\n",
       "      <td id=\"T_a2a1c_row0_col8\" class=\"data row0 col8\" >0</td>\n",
       "      <td id=\"T_a2a1c_row0_col9\" class=\"data row0 col9\" >0</td>\n",
       "      <td id=\"T_a2a1c_row0_col10\" class=\"data row0 col10\" >0</td>\n",
       "      <td id=\"T_a2a1c_row0_col11\" class=\"data row0 col11\" >0</td>\n",
       "      <td id=\"T_a2a1c_row0_col12\" class=\"data row0 col12\" >0</td>\n",
       "      <td id=\"T_a2a1c_row0_col13\" class=\"data row0 col13\" >0</td>\n",
       "      <td id=\"T_a2a1c_row0_col14\" class=\"data row0 col14\" >0</td>\n",
       "      <td id=\"T_a2a1c_row0_col15\" class=\"data row0 col15\" >0</td>\n",
       "      <td id=\"T_a2a1c_row0_col16\" class=\"data row0 col16\" >0</td>\n",
       "      <td id=\"T_a2a1c_row0_col17\" class=\"data row0 col17\" >0</td>\n",
       "    </tr>\n",
       "    <tr>\n",
       "      <th id=\"T_a2a1c_level0_row1\" class=\"row_heading level0 row1\" >1</th>\n",
       "      <td id=\"T_a2a1c_row1_col0\" class=\"data row1 col0\" >0</td>\n",
       "      <td id=\"T_a2a1c_row1_col1\" class=\"data row1 col1\" >0</td>\n",
       "      <td id=\"T_a2a1c_row1_col2\" class=\"data row1 col2\" >0</td>\n",
       "      <td id=\"T_a2a1c_row1_col3\" class=\"data row1 col3\" >0</td>\n",
       "      <td id=\"T_a2a1c_row1_col4\" class=\"data row1 col4\" >0</td>\n",
       "      <td id=\"T_a2a1c_row1_col5\" class=\"data row1 col5\" >29</td>\n",
       "      <td id=\"T_a2a1c_row1_col6\" class=\"data row1 col6\" >150</td>\n",
       "      <td id=\"T_a2a1c_row1_col7\" class=\"data row1 col7\" >195</td>\n",
       "      <td id=\"T_a2a1c_row1_col8\" class=\"data row1 col8\" >254</td>\n",
       "      <td id=\"T_a2a1c_row1_col9\" class=\"data row1 col9\" >255</td>\n",
       "      <td id=\"T_a2a1c_row1_col10\" class=\"data row1 col10\" >254</td>\n",
       "      <td id=\"T_a2a1c_row1_col11\" class=\"data row1 col11\" >176</td>\n",
       "      <td id=\"T_a2a1c_row1_col12\" class=\"data row1 col12\" >193</td>\n",
       "      <td id=\"T_a2a1c_row1_col13\" class=\"data row1 col13\" >150</td>\n",
       "      <td id=\"T_a2a1c_row1_col14\" class=\"data row1 col14\" >96</td>\n",
       "      <td id=\"T_a2a1c_row1_col15\" class=\"data row1 col15\" >0</td>\n",
       "      <td id=\"T_a2a1c_row1_col16\" class=\"data row1 col16\" >0</td>\n",
       "      <td id=\"T_a2a1c_row1_col17\" class=\"data row1 col17\" >0</td>\n",
       "    </tr>\n",
       "    <tr>\n",
       "      <th id=\"T_a2a1c_level0_row2\" class=\"row_heading level0 row2\" >2</th>\n",
       "      <td id=\"T_a2a1c_row2_col0\" class=\"data row2 col0\" >0</td>\n",
       "      <td id=\"T_a2a1c_row2_col1\" class=\"data row2 col1\" >0</td>\n",
       "      <td id=\"T_a2a1c_row2_col2\" class=\"data row2 col2\" >0</td>\n",
       "      <td id=\"T_a2a1c_row2_col3\" class=\"data row2 col3\" >48</td>\n",
       "      <td id=\"T_a2a1c_row2_col4\" class=\"data row2 col4\" >166</td>\n",
       "      <td id=\"T_a2a1c_row2_col5\" class=\"data row2 col5\" >224</td>\n",
       "      <td id=\"T_a2a1c_row2_col6\" class=\"data row2 col6\" >253</td>\n",
       "      <td id=\"T_a2a1c_row2_col7\" class=\"data row2 col7\" >253</td>\n",
       "      <td id=\"T_a2a1c_row2_col8\" class=\"data row2 col8\" >234</td>\n",
       "      <td id=\"T_a2a1c_row2_col9\" class=\"data row2 col9\" >196</td>\n",
       "      <td id=\"T_a2a1c_row2_col10\" class=\"data row2 col10\" >253</td>\n",
       "      <td id=\"T_a2a1c_row2_col11\" class=\"data row2 col11\" >253</td>\n",
       "      <td id=\"T_a2a1c_row2_col12\" class=\"data row2 col12\" >253</td>\n",
       "      <td id=\"T_a2a1c_row2_col13\" class=\"data row2 col13\" >253</td>\n",
       "      <td id=\"T_a2a1c_row2_col14\" class=\"data row2 col14\" >233</td>\n",
       "      <td id=\"T_a2a1c_row2_col15\" class=\"data row2 col15\" >0</td>\n",
       "      <td id=\"T_a2a1c_row2_col16\" class=\"data row2 col16\" >0</td>\n",
       "      <td id=\"T_a2a1c_row2_col17\" class=\"data row2 col17\" >0</td>\n",
       "    </tr>\n",
       "    <tr>\n",
       "      <th id=\"T_a2a1c_level0_row3\" class=\"row_heading level0 row3\" >3</th>\n",
       "      <td id=\"T_a2a1c_row3_col0\" class=\"data row3 col0\" >0</td>\n",
       "      <td id=\"T_a2a1c_row3_col1\" class=\"data row3 col1\" >93</td>\n",
       "      <td id=\"T_a2a1c_row3_col2\" class=\"data row3 col2\" >244</td>\n",
       "      <td id=\"T_a2a1c_row3_col3\" class=\"data row3 col3\" >249</td>\n",
       "      <td id=\"T_a2a1c_row3_col4\" class=\"data row3 col4\" >253</td>\n",
       "      <td id=\"T_a2a1c_row3_col5\" class=\"data row3 col5\" >187</td>\n",
       "      <td id=\"T_a2a1c_row3_col6\" class=\"data row3 col6\" >46</td>\n",
       "      <td id=\"T_a2a1c_row3_col7\" class=\"data row3 col7\" >10</td>\n",
       "      <td id=\"T_a2a1c_row3_col8\" class=\"data row3 col8\" >8</td>\n",
       "      <td id=\"T_a2a1c_row3_col9\" class=\"data row3 col9\" >4</td>\n",
       "      <td id=\"T_a2a1c_row3_col10\" class=\"data row3 col10\" >10</td>\n",
       "      <td id=\"T_a2a1c_row3_col11\" class=\"data row3 col11\" >194</td>\n",
       "      <td id=\"T_a2a1c_row3_col12\" class=\"data row3 col12\" >253</td>\n",
       "      <td id=\"T_a2a1c_row3_col13\" class=\"data row3 col13\" >253</td>\n",
       "      <td id=\"T_a2a1c_row3_col14\" class=\"data row3 col14\" >233</td>\n",
       "      <td id=\"T_a2a1c_row3_col15\" class=\"data row3 col15\" >0</td>\n",
       "      <td id=\"T_a2a1c_row3_col16\" class=\"data row3 col16\" >0</td>\n",
       "      <td id=\"T_a2a1c_row3_col17\" class=\"data row3 col17\" >0</td>\n",
       "    </tr>\n",
       "    <tr>\n",
       "      <th id=\"T_a2a1c_level0_row4\" class=\"row_heading level0 row4\" >4</th>\n",
       "      <td id=\"T_a2a1c_row4_col0\" class=\"data row4 col0\" >0</td>\n",
       "      <td id=\"T_a2a1c_row4_col1\" class=\"data row4 col1\" >107</td>\n",
       "      <td id=\"T_a2a1c_row4_col2\" class=\"data row4 col2\" >253</td>\n",
       "      <td id=\"T_a2a1c_row4_col3\" class=\"data row4 col3\" >253</td>\n",
       "      <td id=\"T_a2a1c_row4_col4\" class=\"data row4 col4\" >230</td>\n",
       "      <td id=\"T_a2a1c_row4_col5\" class=\"data row4 col5\" >48</td>\n",
       "      <td id=\"T_a2a1c_row4_col6\" class=\"data row4 col6\" >0</td>\n",
       "      <td id=\"T_a2a1c_row4_col7\" class=\"data row4 col7\" >0</td>\n",
       "      <td id=\"T_a2a1c_row4_col8\" class=\"data row4 col8\" >0</td>\n",
       "      <td id=\"T_a2a1c_row4_col9\" class=\"data row4 col9\" >0</td>\n",
       "      <td id=\"T_a2a1c_row4_col10\" class=\"data row4 col10\" >0</td>\n",
       "      <td id=\"T_a2a1c_row4_col11\" class=\"data row4 col11\" >192</td>\n",
       "      <td id=\"T_a2a1c_row4_col12\" class=\"data row4 col12\" >253</td>\n",
       "      <td id=\"T_a2a1c_row4_col13\" class=\"data row4 col13\" >253</td>\n",
       "      <td id=\"T_a2a1c_row4_col14\" class=\"data row4 col14\" >156</td>\n",
       "      <td id=\"T_a2a1c_row4_col15\" class=\"data row4 col15\" >0</td>\n",
       "      <td id=\"T_a2a1c_row4_col16\" class=\"data row4 col16\" >0</td>\n",
       "      <td id=\"T_a2a1c_row4_col17\" class=\"data row4 col17\" >0</td>\n",
       "    </tr>\n",
       "    <tr>\n",
       "      <th id=\"T_a2a1c_level0_row5\" class=\"row_heading level0 row5\" >5</th>\n",
       "      <td id=\"T_a2a1c_row5_col0\" class=\"data row5 col0\" >0</td>\n",
       "      <td id=\"T_a2a1c_row5_col1\" class=\"data row5 col1\" >3</td>\n",
       "      <td id=\"T_a2a1c_row5_col2\" class=\"data row5 col2\" >20</td>\n",
       "      <td id=\"T_a2a1c_row5_col3\" class=\"data row5 col3\" >20</td>\n",
       "      <td id=\"T_a2a1c_row5_col4\" class=\"data row5 col4\" >15</td>\n",
       "      <td id=\"T_a2a1c_row5_col5\" class=\"data row5 col5\" >0</td>\n",
       "      <td id=\"T_a2a1c_row5_col6\" class=\"data row5 col6\" >0</td>\n",
       "      <td id=\"T_a2a1c_row5_col7\" class=\"data row5 col7\" >0</td>\n",
       "      <td id=\"T_a2a1c_row5_col8\" class=\"data row5 col8\" >0</td>\n",
       "      <td id=\"T_a2a1c_row5_col9\" class=\"data row5 col9\" >0</td>\n",
       "      <td id=\"T_a2a1c_row5_col10\" class=\"data row5 col10\" >43</td>\n",
       "      <td id=\"T_a2a1c_row5_col11\" class=\"data row5 col11\" >224</td>\n",
       "      <td id=\"T_a2a1c_row5_col12\" class=\"data row5 col12\" >253</td>\n",
       "      <td id=\"T_a2a1c_row5_col13\" class=\"data row5 col13\" >245</td>\n",
       "      <td id=\"T_a2a1c_row5_col14\" class=\"data row5 col14\" >74</td>\n",
       "      <td id=\"T_a2a1c_row5_col15\" class=\"data row5 col15\" >0</td>\n",
       "      <td id=\"T_a2a1c_row5_col16\" class=\"data row5 col16\" >0</td>\n",
       "      <td id=\"T_a2a1c_row5_col17\" class=\"data row5 col17\" >0</td>\n",
       "    </tr>\n",
       "    <tr>\n",
       "      <th id=\"T_a2a1c_level0_row6\" class=\"row_heading level0 row6\" >6</th>\n",
       "      <td id=\"T_a2a1c_row6_col0\" class=\"data row6 col0\" >0</td>\n",
       "      <td id=\"T_a2a1c_row6_col1\" class=\"data row6 col1\" >0</td>\n",
       "      <td id=\"T_a2a1c_row6_col2\" class=\"data row6 col2\" >0</td>\n",
       "      <td id=\"T_a2a1c_row6_col3\" class=\"data row6 col3\" >0</td>\n",
       "      <td id=\"T_a2a1c_row6_col4\" class=\"data row6 col4\" >0</td>\n",
       "      <td id=\"T_a2a1c_row6_col5\" class=\"data row6 col5\" >0</td>\n",
       "      <td id=\"T_a2a1c_row6_col6\" class=\"data row6 col6\" >0</td>\n",
       "      <td id=\"T_a2a1c_row6_col7\" class=\"data row6 col7\" >0</td>\n",
       "      <td id=\"T_a2a1c_row6_col8\" class=\"data row6 col8\" >0</td>\n",
       "      <td id=\"T_a2a1c_row6_col9\" class=\"data row6 col9\" >0</td>\n",
       "      <td id=\"T_a2a1c_row6_col10\" class=\"data row6 col10\" >249</td>\n",
       "      <td id=\"T_a2a1c_row6_col11\" class=\"data row6 col11\" >253</td>\n",
       "      <td id=\"T_a2a1c_row6_col12\" class=\"data row6 col12\" >245</td>\n",
       "      <td id=\"T_a2a1c_row6_col13\" class=\"data row6 col13\" >126</td>\n",
       "      <td id=\"T_a2a1c_row6_col14\" class=\"data row6 col14\" >0</td>\n",
       "      <td id=\"T_a2a1c_row6_col15\" class=\"data row6 col15\" >0</td>\n",
       "      <td id=\"T_a2a1c_row6_col16\" class=\"data row6 col16\" >0</td>\n",
       "      <td id=\"T_a2a1c_row6_col17\" class=\"data row6 col17\" >0</td>\n",
       "    </tr>\n",
       "    <tr>\n",
       "      <th id=\"T_a2a1c_level0_row7\" class=\"row_heading level0 row7\" >7</th>\n",
       "      <td id=\"T_a2a1c_row7_col0\" class=\"data row7 col0\" >0</td>\n",
       "      <td id=\"T_a2a1c_row7_col1\" class=\"data row7 col1\" >0</td>\n",
       "      <td id=\"T_a2a1c_row7_col2\" class=\"data row7 col2\" >0</td>\n",
       "      <td id=\"T_a2a1c_row7_col3\" class=\"data row7 col3\" >0</td>\n",
       "      <td id=\"T_a2a1c_row7_col4\" class=\"data row7 col4\" >0</td>\n",
       "      <td id=\"T_a2a1c_row7_col5\" class=\"data row7 col5\" >0</td>\n",
       "      <td id=\"T_a2a1c_row7_col6\" class=\"data row7 col6\" >0</td>\n",
       "      <td id=\"T_a2a1c_row7_col7\" class=\"data row7 col7\" >14</td>\n",
       "      <td id=\"T_a2a1c_row7_col8\" class=\"data row7 col8\" >101</td>\n",
       "      <td id=\"T_a2a1c_row7_col9\" class=\"data row7 col9\" >223</td>\n",
       "      <td id=\"T_a2a1c_row7_col10\" class=\"data row7 col10\" >253</td>\n",
       "      <td id=\"T_a2a1c_row7_col11\" class=\"data row7 col11\" >248</td>\n",
       "      <td id=\"T_a2a1c_row7_col12\" class=\"data row7 col12\" >124</td>\n",
       "      <td id=\"T_a2a1c_row7_col13\" class=\"data row7 col13\" >0</td>\n",
       "      <td id=\"T_a2a1c_row7_col14\" class=\"data row7 col14\" >0</td>\n",
       "      <td id=\"T_a2a1c_row7_col15\" class=\"data row7 col15\" >0</td>\n",
       "      <td id=\"T_a2a1c_row7_col16\" class=\"data row7 col16\" >0</td>\n",
       "      <td id=\"T_a2a1c_row7_col17\" class=\"data row7 col17\" >0</td>\n",
       "    </tr>\n",
       "    <tr>\n",
       "      <th id=\"T_a2a1c_level0_row8\" class=\"row_heading level0 row8\" >8</th>\n",
       "      <td id=\"T_a2a1c_row8_col0\" class=\"data row8 col0\" >0</td>\n",
       "      <td id=\"T_a2a1c_row8_col1\" class=\"data row8 col1\" >0</td>\n",
       "      <td id=\"T_a2a1c_row8_col2\" class=\"data row8 col2\" >0</td>\n",
       "      <td id=\"T_a2a1c_row8_col3\" class=\"data row8 col3\" >0</td>\n",
       "      <td id=\"T_a2a1c_row8_col4\" class=\"data row8 col4\" >0</td>\n",
       "      <td id=\"T_a2a1c_row8_col5\" class=\"data row8 col5\" >11</td>\n",
       "      <td id=\"T_a2a1c_row8_col6\" class=\"data row8 col6\" >166</td>\n",
       "      <td id=\"T_a2a1c_row8_col7\" class=\"data row8 col7\" >239</td>\n",
       "      <td id=\"T_a2a1c_row8_col8\" class=\"data row8 col8\" >253</td>\n",
       "      <td id=\"T_a2a1c_row8_col9\" class=\"data row8 col9\" >253</td>\n",
       "      <td id=\"T_a2a1c_row8_col10\" class=\"data row8 col10\" >253</td>\n",
       "      <td id=\"T_a2a1c_row8_col11\" class=\"data row8 col11\" >187</td>\n",
       "      <td id=\"T_a2a1c_row8_col12\" class=\"data row8 col12\" >30</td>\n",
       "      <td id=\"T_a2a1c_row8_col13\" class=\"data row8 col13\" >0</td>\n",
       "      <td id=\"T_a2a1c_row8_col14\" class=\"data row8 col14\" >0</td>\n",
       "      <td id=\"T_a2a1c_row8_col15\" class=\"data row8 col15\" >0</td>\n",
       "      <td id=\"T_a2a1c_row8_col16\" class=\"data row8 col16\" >0</td>\n",
       "      <td id=\"T_a2a1c_row8_col17\" class=\"data row8 col17\" >0</td>\n",
       "    </tr>\n",
       "    <tr>\n",
       "      <th id=\"T_a2a1c_level0_row9\" class=\"row_heading level0 row9\" >9</th>\n",
       "      <td id=\"T_a2a1c_row9_col0\" class=\"data row9 col0\" >0</td>\n",
       "      <td id=\"T_a2a1c_row9_col1\" class=\"data row9 col1\" >0</td>\n",
       "      <td id=\"T_a2a1c_row9_col2\" class=\"data row9 col2\" >0</td>\n",
       "      <td id=\"T_a2a1c_row9_col3\" class=\"data row9 col3\" >0</td>\n",
       "      <td id=\"T_a2a1c_row9_col4\" class=\"data row9 col4\" >0</td>\n",
       "      <td id=\"T_a2a1c_row9_col5\" class=\"data row9 col5\" >16</td>\n",
       "      <td id=\"T_a2a1c_row9_col6\" class=\"data row9 col6\" >248</td>\n",
       "      <td id=\"T_a2a1c_row9_col7\" class=\"data row9 col7\" >250</td>\n",
       "      <td id=\"T_a2a1c_row9_col8\" class=\"data row9 col8\" >253</td>\n",
       "      <td id=\"T_a2a1c_row9_col9\" class=\"data row9 col9\" >253</td>\n",
       "      <td id=\"T_a2a1c_row9_col10\" class=\"data row9 col10\" >253</td>\n",
       "      <td id=\"T_a2a1c_row9_col11\" class=\"data row9 col11\" >253</td>\n",
       "      <td id=\"T_a2a1c_row9_col12\" class=\"data row9 col12\" >232</td>\n",
       "      <td id=\"T_a2a1c_row9_col13\" class=\"data row9 col13\" >213</td>\n",
       "      <td id=\"T_a2a1c_row9_col14\" class=\"data row9 col14\" >111</td>\n",
       "      <td id=\"T_a2a1c_row9_col15\" class=\"data row9 col15\" >2</td>\n",
       "      <td id=\"T_a2a1c_row9_col16\" class=\"data row9 col16\" >0</td>\n",
       "      <td id=\"T_a2a1c_row9_col17\" class=\"data row9 col17\" >0</td>\n",
       "    </tr>\n",
       "    <tr>\n",
       "      <th id=\"T_a2a1c_level0_row10\" class=\"row_heading level0 row10\" >10</th>\n",
       "      <td id=\"T_a2a1c_row10_col0\" class=\"data row10 col0\" >0</td>\n",
       "      <td id=\"T_a2a1c_row10_col1\" class=\"data row10 col1\" >0</td>\n",
       "      <td id=\"T_a2a1c_row10_col2\" class=\"data row10 col2\" >0</td>\n",
       "      <td id=\"T_a2a1c_row10_col3\" class=\"data row10 col3\" >0</td>\n",
       "      <td id=\"T_a2a1c_row10_col4\" class=\"data row10 col4\" >0</td>\n",
       "      <td id=\"T_a2a1c_row10_col5\" class=\"data row10 col5\" >0</td>\n",
       "      <td id=\"T_a2a1c_row10_col6\" class=\"data row10 col6\" >0</td>\n",
       "      <td id=\"T_a2a1c_row10_col7\" class=\"data row10 col7\" >43</td>\n",
       "      <td id=\"T_a2a1c_row10_col8\" class=\"data row10 col8\" >98</td>\n",
       "      <td id=\"T_a2a1c_row10_col9\" class=\"data row10 col9\" >98</td>\n",
       "      <td id=\"T_a2a1c_row10_col10\" class=\"data row10 col10\" >208</td>\n",
       "      <td id=\"T_a2a1c_row10_col11\" class=\"data row10 col11\" >253</td>\n",
       "      <td id=\"T_a2a1c_row10_col12\" class=\"data row10 col12\" >253</td>\n",
       "      <td id=\"T_a2a1c_row10_col13\" class=\"data row10 col13\" >253</td>\n",
       "      <td id=\"T_a2a1c_row10_col14\" class=\"data row10 col14\" >253</td>\n",
       "      <td id=\"T_a2a1c_row10_col15\" class=\"data row10 col15\" >187</td>\n",
       "      <td id=\"T_a2a1c_row10_col16\" class=\"data row10 col16\" >22</td>\n",
       "      <td id=\"T_a2a1c_row10_col17\" class=\"data row10 col17\" >0</td>\n",
       "    </tr>\n",
       "  </tbody>\n",
       "</table>\n"
      ],
      "text/plain": [
       "<pandas.io.formats.style.Styler at 0x7f897d5560e0>"
      ]
     },
     "execution_count": 212,
     "metadata": {},
     "output_type": "execute_result"
    }
   ],
   "source": [
    "im3_t = tensor(im3)\n",
    "df = pd.DataFrame(im3_t[4:15,4:22])\n",
    "df.style.set_properties(**{'font-size':'6pt'}).background_gradient('Greys')"
   ]
  },
  {
   "cell_type": "code",
   "execution_count": 213,
   "id": "b6fa0844-e073-4eb1-8171-fbf617d19d19",
   "metadata": {},
   "outputs": [
    {
     "data": {
      "text/plain": [
       "(6265, 6131)"
      ]
     },
     "execution_count": 213,
     "metadata": {},
     "output_type": "execute_result"
    }
   ],
   "source": [
    "seven_tensors = [tensor(Image.open(o)) for o in sevens]\n",
    "three_tensors = [tensor(Image.open(o)) for o in threes]\n",
    "len(seven_tensors),len(three_tensors)"
   ]
  },
  {
   "cell_type": "code",
   "execution_count": 214,
   "id": "66448371-8d78-4766-97b6-cd8c43e44a46",
   "metadata": {},
   "outputs": [
    {
     "data": {
      "image/png": "[encoded data removed]",
      "text/plain": [
       "<Figure size 100x100 with 1 Axes>"
      ]
     },
     "metadata": {},
     "output_type": "display_data"
    }
   ],
   "source": [
    "show_image(three_tensors[1]);"
   ]
  },
  {
   "cell_type": "code",
   "execution_count": 215,
   "id": "8ba87241-6fef-4874-a618-2832682ae582",
   "metadata": {},
   "outputs": [
    {
     "data": {
      "text/plain": [
       "torch.Size([6131, 28, 28])"
      ]
     },
     "execution_count": 215,
     "metadata": {},
     "output_type": "execute_result"
    }
   ],
   "source": [
    "stacked_sevens = torch.stack(seven_tensors).float()/255\n",
    "stacked_threes = torch.stack(three_tensors).float()/255\n",
    "#shape is the size of each axis of a tensor\n",
    "stacked_threes.shape"
   ]
  },
  {
   "cell_type": "code",
   "execution_count": 216,
   "id": "94b3b816-2292-40b9-912e-39d5fecf59c8",
   "metadata": {},
   "outputs": [
    {
     "data": {
      "text/plain": [
       "3"
      ]
     },
     "execution_count": 216,
     "metadata": {},
     "output_type": "execute_result"
    }
   ],
   "source": [
    "#length of a tensor is its rank\n",
    "len(stacked_threes.shape)"
   ]
  },
  {
   "cell_type": "code",
   "execution_count": 217,
   "id": "aa6e5fbd-f9f1-46aa-aa56-8cc737fd3c58",
   "metadata": {},
   "outputs": [
    {
     "data": {
      "text/plain": [
       "3"
      ]
     },
     "execution_count": 217,
     "metadata": {},
     "output_type": "execute_result"
    }
   ],
   "source": [
    "stacked_threes.ndim"
   ]
  },
  {
   "cell_type": "code",
   "execution_count": 218,
   "id": "023a4886-0c21-44f3-b977-a8b4e7170ad7",
   "metadata": {},
   "outputs": [
    {
     "data": {
      "image/png": "[encoded data removed]",
      "text/plain": [
       "<Figure size 100x100 with 1 Axes>"
      ]
     },
     "metadata": {},
     "output_type": "display_data"
    }
   ],
   "source": [
    "#calculate the \"ideal\" three e.g. the average three.\n",
    "mean3 = stacked_threes.mean(0)\n",
    "show_image(mean3);"
   ]
  },
  {
   "cell_type": "code",
   "execution_count": 219,
   "id": "6974cb95-2b42-4985-8e65-77bd22fd00ce",
   "metadata": {},
   "outputs": [
    {
     "data": {
      "image/png": "[encoded data removed]",
      "text/plain": [
       "<Figure size 100x100 with 1 Axes>"
      ]
     },
     "metadata": {},
     "output_type": "display_data"
    }
   ],
   "source": [
    "mean7 = stacked_sevens.mean(0)\n",
    "show_image(mean7);"
   ]
  },
  {
   "cell_type": "code",
   "execution_count": 220,
   "id": "5985238a-39ee-4b58-b567-0456e0e93e5d",
   "metadata": {},
   "outputs": [
    {
     "data": {
      "image/png": "[encoded data removed]",
      "text/plain": [
       "<Figure size 100x100 with 1 Axes>"
      ]
     },
     "metadata": {},
     "output_type": "display_data"
    }
   ],
   "source": [
    "a_3 = stacked_threes[1]\n",
    "show_image(a_3);"
   ]
  },
  {
   "cell_type": "code",
   "execution_count": 221,
   "id": "a367546a-57f4-4637-a68f-c445175fe320",
   "metadata": {},
   "outputs": [
    {
     "data": {
      "text/plain": [
       "(tensor(0.1114), tensor(0.2021))"
      ]
     },
     "execution_count": 221,
     "metadata": {},
     "output_type": "execute_result"
    }
   ],
   "source": [
    "#L1 Norm or Mean Absolute difference\n",
    "dist_3_abs = (a_3 - mean3).abs().mean()\n",
    "#L2 Norm or Root Mean Square Error RMSE\n",
    "dist_3_sqr = ((a_3 - mean3)**2).mean().sqrt()\n",
    "dist_3_abs,dist_3_sqr"
   ]
  },
  {
   "cell_type": "code",
   "execution_count": 222,
   "id": "4afdedc0-18ce-452b-b36c-323baa31603a",
   "metadata": {},
   "outputs": [
    {
     "data": {
      "text/plain": [
       "(tensor(0.1586), tensor(0.3021))"
      ]
     },
     "execution_count": 222,
     "metadata": {},
     "output_type": "execute_result"
    }
   ],
   "source": [
    "dist_7_abs = (a_3 - mean7).abs().mean()\n",
    "dist_7_sqr = ((a_3 - mean7)**2).mean().sqrt()\n",
    "dist_7_abs,dist_7_sqr"
   ]
  },
  {
   "cell_type": "code",
   "execution_count": 223,
   "id": "4f43df0f-8277-4f5e-9cd6-88aec7bc87ac",
   "metadata": {},
   "outputs": [
    {
     "data": {
      "text/plain": [
       "(tensor(0.1586), tensor(0.3021))"
      ]
     },
     "execution_count": 223,
     "metadata": {},
     "output_type": "execute_result"
    }
   ],
   "source": [
    "#pytorch provides both these loss function inside torch.nn.functional\n",
    "#pytorch recommends importing torch.nn.functional as F\n",
    "F.l1_loss(a_3.float(),mean7), F.mse_loss(a_3,mean7).sqrt()"
   ]
  },
  {
   "cell_type": "code",
   "execution_count": 224,
   "id": "398f17d5-db57-460f-99b8-8697d9fbc3f6",
   "metadata": {},
   "outputs": [],
   "source": [
    "#NumPy Arrays and PyTorch Tensors\n",
    "data = [[1,2,3],[4,5,6]]\n",
    "arr = array(data)\n",
    "tns = tensor(data)"
   ]
  },
  {
   "cell_type": "code",
   "execution_count": 225,
   "id": "7444cc01-bb78-4055-9d75-de6b25f8aee3",
   "metadata": {},
   "outputs": [
    {
     "data": {
      "text/plain": [
       "array([[1, 2, 3],\n",
       "       [4, 5, 6]])"
      ]
     },
     "execution_count": 225,
     "metadata": {},
     "output_type": "execute_result"
    }
   ],
   "source": [
    "arr #numpy"
   ]
  },
  {
   "cell_type": "code",
   "execution_count": 226,
   "id": "23804160-2069-4859-9e9f-872629d639f3",
   "metadata": {},
   "outputs": [
    {
     "data": {
      "text/plain": [
       "tensor([[1, 2, 3],\n",
       "        [4, 5, 6]])"
      ]
     },
     "execution_count": 226,
     "metadata": {},
     "output_type": "execute_result"
    }
   ],
   "source": [
    "tns #pytorch"
   ]
  },
  {
   "cell_type": "code",
   "execution_count": 227,
   "id": "4d30cb74-e6a7-4368-a85a-2aab07cbe3af",
   "metadata": {},
   "outputs": [
    {
     "data": {
      "text/plain": [
       "tensor([4, 5, 6])"
      ]
     },
     "execution_count": 227,
     "metadata": {},
     "output_type": "execute_result"
    }
   ],
   "source": [
    "tns[1]"
   ]
  },
  {
   "cell_type": "code",
   "execution_count": 228,
   "id": "22a33f90-5b75-4355-8416-5abbe26765ff",
   "metadata": {},
   "outputs": [
    {
     "data": {
      "text/plain": [
       "tensor([2, 5])"
      ]
     },
     "execution_count": 228,
     "metadata": {},
     "output_type": "execute_result"
    }
   ],
   "source": [
    "tns[:,1]"
   ]
  },
  {
   "cell_type": "code",
   "execution_count": 229,
   "id": "dc97045a-bd15-449e-b87f-593c15d7ce6c",
   "metadata": {},
   "outputs": [
    {
     "data": {
      "text/plain": [
       "tensor([5, 6])"
      ]
     },
     "execution_count": 229,
     "metadata": {},
     "output_type": "execute_result"
    }
   ],
   "source": [
    "tns[1,1:3]"
   ]
  },
  {
   "cell_type": "code",
   "execution_count": 230,
   "id": "e35ec51d-e134-4800-8059-b5d480729cb8",
   "metadata": {},
   "outputs": [
    {
     "data": {
      "text/plain": [
       "tensor([[2, 3, 4],\n",
       "        [5, 6, 7]])"
      ]
     },
     "execution_count": 230,
     "metadata": {},
     "output_type": "execute_result"
    }
   ],
   "source": [
    "tns+1"
   ]
  },
  {
   "cell_type": "code",
   "execution_count": 231,
   "id": "7ec4d2fe-a9cd-48f6-badd-129a7cb99937",
   "metadata": {},
   "outputs": [
    {
     "data": {
      "text/plain": [
       "'torch.LongTensor'"
      ]
     },
     "execution_count": 231,
     "metadata": {},
     "output_type": "execute_result"
    }
   ],
   "source": [
    "tns.type()"
   ]
  },
  {
   "cell_type": "code",
   "execution_count": 232,
   "id": "cd2a3492-d687-4797-8c22-55211c1278a9",
   "metadata": {},
   "outputs": [
    {
     "data": {
      "text/plain": [
       "tensor([[1.5000, 3.0000, 4.5000],\n",
       "        [6.0000, 7.5000, 9.0000]])"
      ]
     },
     "execution_count": 232,
     "metadata": {},
     "output_type": "execute_result"
    }
   ],
   "source": [
    "tns*1.5"
   ]
  },
  {
   "cell_type": "code",
   "execution_count": 233,
   "id": "cf5857f2-5996-42aa-af32-347a2dce724f",
   "metadata": {},
   "outputs": [
    {
     "data": {
      "text/plain": [
       "(torch.Size([1010, 28, 28]), torch.Size([1028, 28, 28]))"
      ]
     },
     "execution_count": 233,
     "metadata": {},
     "output_type": "execute_result"
    }
   ],
   "source": [
    "#validation tensors, not absolutely necessary for the case of\n",
    "#the simple model because it has no trained components\n",
    "#but good practice\n",
    "valid_3_tens = torch.stack([tensor(Image.open(o)) \n",
    "                            for o in (path/'valid'/'3').ls()])\n",
    "valid_3_tens = valid_3_tens.float()/255\n",
    "valid_7_tens = torch.stack([tensor(Image.open(o))\n",
    "                           for o in (path/'valid'/'7').ls()])\n",
    "valid_7_tens = valid_7_tens.float()/255\n",
    "valid_3_tens.shape,valid_7_tens.shape "
   ]
  },
  {
   "cell_type": "code",
   "execution_count": 234,
   "id": "3f261268-4840-4ebb-b78e-38e55233f4f7",
   "metadata": {},
   "outputs": [
    {
     "data": {
      "text/plain": [
       "tensor(0.1114)"
      ]
     },
     "execution_count": 234,
     "metadata": {},
     "output_type": "execute_result"
    }
   ],
   "source": [
    "#calculate the distance between two images\n",
    "def mnist_distance(a,b): return (a-b).abs().mean((-1,-2))\n",
    "mnist_distance(a_3, mean3)"
   ]
  },
  {
   "cell_type": "code",
   "execution_count": 235,
   "id": "b62e253a-8c9c-42e6-a363-189b91c4cf80",
   "metadata": {},
   "outputs": [
    {
     "data": {
      "text/plain": [
       "(tensor([0.1229, 0.1061, 0.1327,  ..., 0.1308, 0.1133, 0.1315]),\n",
       " torch.Size([1010]))"
      ]
     },
     "execution_count": 235,
     "metadata": {},
     "output_type": "execute_result"
    }
   ],
   "source": [
    "#broadcasting\n",
    "valid_3_dist = mnist_distance(valid_3_tens, mean3)\n",
    "valid_3_dist, valid_3_dist.shape"
   ]
  },
  {
   "cell_type": "code",
   "execution_count": 236,
   "id": "3b1a5479-1353-4a43-9d81-54ba7ad588b6",
   "metadata": {},
   "outputs": [
    {
     "data": {
      "text/plain": [
       "tensor([2, 3, 4])"
      ]
     },
     "execution_count": 236,
     "metadata": {},
     "output_type": "execute_result"
    }
   ],
   "source": [
    "tensor([1,2,3]) + tensor(1)"
   ]
  },
  {
   "cell_type": "code",
   "execution_count": 237,
   "id": "e20d210d-11f0-41f8-959e-5c8851f2eff4",
   "metadata": {},
   "outputs": [
    {
     "data": {
      "text/plain": [
       "torch.Size([1010, 28, 28])"
      ]
     },
     "execution_count": 237,
     "metadata": {},
     "output_type": "execute_result"
    }
   ],
   "source": [
    "(valid_3_tens-mean3).shape"
   ]
  },
  {
   "cell_type": "code",
   "execution_count": 238,
   "id": "2283f443-ad87-4e44-93a7-bb362c075705",
   "metadata": {},
   "outputs": [],
   "source": [
    "#function to check wheter image is closer to ideal 3 or ideal 7\n",
    "def is_3(x): return mnist_distance(x,mean3) < mnist_distance(x,mean7)"
   ]
  },
  {
   "cell_type": "code",
   "execution_count": 239,
   "id": "3d261983-9413-4f27-b3b5-84f22b4c7fc7",
   "metadata": {},
   "outputs": [
    {
     "data": {
      "text/plain": [
       "(tensor(True), tensor(1.))"
      ]
     },
     "execution_count": 239,
     "metadata": {},
     "output_type": "execute_result"
    }
   ],
   "source": [
    "is_3(a_3), is_3(a_3).float()"
   ]
  },
  {
   "cell_type": "code",
   "execution_count": 240,
   "id": "6828d636-1c34-4f15-adca-7d17f0e8c4d5",
   "metadata": {},
   "outputs": [
    {
     "data": {
      "text/plain": [
       "tensor([ True,  True, False,  ...,  True,  True,  True])"
      ]
     },
     "execution_count": 240,
     "metadata": {},
     "output_type": "execute_result"
    }
   ],
   "source": [
    "is_3(valid_3_tens)"
   ]
  },
  {
   "cell_type": "code",
   "execution_count": 241,
   "id": "3143d6a8-a82f-44be-8534-030899285a0d",
   "metadata": {},
   "outputs": [
    {
     "data": {
      "text/plain": [
       "(tensor(0.9168), tensor(0.9854), tensor(0.9511))"
      ]
     },
     "execution_count": 241,
     "metadata": {},
     "output_type": "execute_result"
    }
   ],
   "source": [
    "#calculate accuracy\n",
    "accuracy_3s = is_3(valid_3_tens).float().mean()\n",
    "accuracy_7s = 1 - is_3(valid_7_tens).float().mean()\n",
    "\n",
    "accuracy_3s, accuracy_7s, (accuracy_3s + accuracy_7s)/2 "
   ]
  },
  {
   "cell_type": "code",
   "execution_count": 242,
   "id": "079a33b0-8baf-4c90-a55f-8c80aa56023f",
   "metadata": {},
   "outputs": [],
   "source": [
    "#Stochastic Gradient Descent (sgd)\n",
    "def f(x): return x**2"
   ]
  },
  {
   "cell_type": "code",
   "execution_count": 243,
   "metadata": {},
   "outputs": [
    {
     "data": {
      "image/png": "[encoded data removed]",
      "text/plain": [
       "<Figure size 600x400 with 1 Axes>"
      ]
     },
     "metadata": {},
     "output_type": "display_data"
    }
   ],
   "source": [
    "plot_function(f, 'x', 'x**2')"
   ]
  },
  {
   "cell_type": "code",
   "execution_count": 244,
   "metadata": {},
   "outputs": [
    {
     "data": {
      "image/png": "[encoded data removed]",
      "text/plain": [
       "<Figure size 600x400 with 1 Axes>"
      ]
     },
     "metadata": {},
     "output_type": "display_data"
    }
   ],
   "source": [
    "plot_function(f, 'x', 'x**2')\n",
    "plt.scatter(-1.5, f(-1.5), color='red');"
   ]
  },
  {
   "cell_type": "code",
   "execution_count": 245,
   "metadata": {},
   "outputs": [],
   "source": [
    "xt = tensor(3.).requires_grad_()"
   ]
  },
  {
   "cell_type": "code",
   "execution_count": 246,
   "metadata": {},
   "outputs": [
    {
     "data": {
      "text/plain": [
       "tensor(3., requires_grad=True)"
      ]
     },
     "execution_count": 246,
     "metadata": {},
     "output_type": "execute_result"
    }
   ],
   "source": [
    "xt"
   ]
  },
  {
   "cell_type": "code",
   "execution_count": 247,
   "metadata": {},
   "outputs": [
    {
     "data": {
      "text/plain": [
       "tensor(9., grad_fn=<PowBackward0>)"
      ]
     },
     "execution_count": 247,
     "metadata": {},
     "output_type": "execute_result"
    }
   ],
   "source": [
    "yt = f(xt)\n",
    "yt"
   ]
  },
  {
   "cell_type": "code",
   "execution_count": 248,
   "metadata": {},
   "outputs": [],
   "source": [
    "#calculate the gradient at x = 3\n",
    "yt.backward()"
   ]
  },
  {
   "cell_type": "code",
   "execution_count": 249,
   "metadata": {},
   "outputs": [
    {
     "data": {
      "text/plain": [
       "tensor(6.)"
      ]
     },
     "execution_count": 249,
     "metadata": {},
     "output_type": "execute_result"
    }
   ],
   "source": [
    "xt.grad"
   ]
  },
  {
   "cell_type": "code",
   "execution_count": 250,
   "metadata": {},
   "outputs": [
    {
     "data": {
      "text/plain": [
       "tensor([ 3.,  4., 10.], requires_grad=True)"
      ]
     },
     "execution_count": 250,
     "metadata": {},
     "output_type": "execute_result"
    }
   ],
   "source": [
    "xt = tensor([3., 4., 10.]).requires_grad_()\n",
    "xt"
   ]
  },
  {
   "cell_type": "code",
   "execution_count": 251,
   "metadata": {},
   "outputs": [
    {
     "data": {
      "text/plain": [
       "tensor(125., grad_fn=<SumBackward0>)"
      ]
     },
     "execution_count": 251,
     "metadata": {},
     "output_type": "execute_result"
    }
   ],
   "source": [
    "def f(x): return (x**2).sum()\n",
    "\n",
    "yt = f(xt)\n",
    "yt"
   ]
  },
  {
   "cell_type": "code",
   "execution_count": 252,
   "metadata": {},
   "outputs": [
    {
     "data": {
      "text/plain": [
       "tensor([ 6.,  8., 20.])"
      ]
     },
     "execution_count": 252,
     "metadata": {},
     "output_type": "execute_result"
    }
   ],
   "source": [
    "yt.backward()\n",
    "xt.grad\n",
    "#https://towardsdatascience.com/gradient-descent-algorithm-a-deep-dive-cf04e8115f21#:~:text=Gradient%20descent%20(GD)%20is%20an,e.g.%20in%20a%20linear%20regression).\n",
    "#https://developers.google.com/machine-learning/crash-course/reducing-loss/gradient-descent#:~:text=Thus%2C%20the%20negative%20of%20the,are%20used%20in%20gradient%20descent."
   ]
  },
  {
   "cell_type": "code",
   "execution_count": 253,
   "metadata": {},
   "outputs": [
    {
     "data": {
      "text/plain": [
       "tensor([ 0.,  1.,  2.,  3.,  4.,  5.,  6.,  7.,  8.,  9., 10., 11., 12., 13., 14., 15., 16., 17., 18., 19.])"
      ]
     },
     "execution_count": 253,
     "metadata": {},
     "output_type": "execute_result"
    }
   ],
   "source": [
    "time = torch.arange(0,20).float(); time"
   ]
  },
  {
   "cell_type": "code",
   "execution_count": 254,
   "metadata": {},
   "outputs": [],
   "source": [
    "speed = torch.randn(20)*3 + 0.75*(time-9.5)**2 + 1 "
   ]
  },
  {
   "cell_type": "code",
   "execution_count": 255,
   "metadata": {},
   "outputs": [
    {
     "data": {
      "text/plain": [
       "tensor([71.8699, 55.8124, 41.4540, 33.6639, 23.6740, 21.1879, 10.6493,  2.5067,  0.9695,  1.4382,  2.3872,  8.6551,  5.4715,  7.4692, 10.0414, 20.4443, 32.7404, 43.4222, 55.7670, 69.9165])"
      ]
     },
     "execution_count": 255,
     "metadata": {},
     "output_type": "execute_result"
    }
   ],
   "source": [
    "speed"
   ]
  },
  {
   "cell_type": "code",
   "execution_count": 256,
   "metadata": {},
   "outputs": [
    {
     "data": {
      "text/plain": [
       "<matplotlib.collections.PathCollection at 0x7f897e8dae30>"
      ]
     },
     "execution_count": 256,
     "metadata": {},
     "output_type": "execute_result"
    },
    {
     "data": {
      "image/png": "[encoded data removed]",
      "text/plain": [
       "<Figure size 640x480 with 1 Axes>"
      ]
     },
     "metadata": {},
     "output_type": "display_data"
    }
   ],
   "source": [
    "plt.scatter(time,speed)"
   ]
  },
  {
   "cell_type": "code",
   "execution_count": 257,
   "metadata": {},
   "outputs": [],
   "source": [
    "def f(t, params):\n",
    "    a,b,c = params\n",
    "    return a*(t**2) + (b*t) + c"
   ]
  },
  {
   "cell_type": "code",
   "execution_count": 258,
   "metadata": {},
   "outputs": [],
   "source": [
    "#loss function\n",
    "def mse(preds, targets): return ((preds - targets)**2).mean()"
   ]
  },
  {
   "cell_type": "code",
   "execution_count": 259,
   "metadata": {},
   "outputs": [],
   "source": [
    "#step 1 initialize parameters\n",
    "params = torch.randn(3).requires_grad_()"
   ]
  },
  {
   "cell_type": "code",
   "execution_count": 260,
   "metadata": {},
   "outputs": [],
   "source": [
    "orig_params = params.clone()"
   ]
  },
  {
   "cell_type": "code",
   "execution_count": 261,
   "metadata": {},
   "outputs": [],
   "source": [
    "#step 2 calculate the predictions\n",
    "preds = f(time, params)"
   ]
  },
  {
   "cell_type": "code",
   "execution_count": 262,
   "metadata": {},
   "outputs": [],
   "source": [
    "#define function to show how close predictions are to the targets\n",
    "def show_preds(preds, ax=None):\n",
    "    if ax is None: ax=plt.subplots()[1]\n",
    "    ax.scatter(time, speed)\n",
    "    ax.scatter(time, to_np(preds), color='red')\n",
    "    #\n",
    "    #ax.set_ylim(-300,100)"
   ]
  },
  {
   "cell_type": "code",
   "execution_count": 263,
   "metadata": {},
   "outputs": [
    {
     "data": {
      "image/png": "[encoded data removed]",
      "text/plain": [
       "<Figure size 640x480 with 1 Axes>"
      ]
     },
     "metadata": {},
     "output_type": "display_data"
    }
   ],
   "source": [
    "show_preds(preds)"
   ]
  },
  {
   "cell_type": "code",
   "execution_count": 264,
   "metadata": {},
   "outputs": [
    {
     "data": {
      "text/plain": [
       "tensor(10679.9434, grad_fn=<MeanBackward0>)"
      ]
     },
     "execution_count": 264,
     "metadata": {},
     "output_type": "execute_result"
    }
   ],
   "source": [
    "#step 3 calculate the loss\n",
    "loss = mse(preds, speed)\n",
    "loss"
   ]
  },
  {
   "cell_type": "code",
   "execution_count": 265,
   "metadata": {},
   "outputs": [
    {
     "data": {
      "text/plain": [
       "tensor([-33543.1094,  -2157.5024,   -167.4232])"
      ]
     },
     "execution_count": 265,
     "metadata": {},
     "output_type": "execute_result"
    }
   ],
   "source": [
    "#step 4 calculate the gradients i.e. calculate an approximation of how the parameters need to change\n",
    "loss.backward()\n",
    "params.grad"
   ]
  },
  {
   "cell_type": "code",
   "execution_count": 266,
   "metadata": {},
   "outputs": [
    {
     "data": {
      "text/plain": [
       "tensor([-0.3354, -0.0216, -0.0017])"
      ]
     },
     "execution_count": 266,
     "metadata": {},
     "output_type": "execute_result"
    }
   ],
   "source": [
    "params.grad * 1e-5"
   ]
  },
  {
   "cell_type": "code",
   "execution_count": 267,
   "metadata": {},
   "outputs": [
    {
     "data": {
      "text/plain": [
       "tensor([-0.4279, -0.5007, -0.1307], requires_grad=True)"
      ]
     },
     "execution_count": 267,
     "metadata": {},
     "output_type": "execute_result"
    }
   ],
   "source": [
    "params"
   ]
  },
  {
   "cell_type": "code",
   "execution_count": 268,
   "metadata": {},
   "outputs": [],
   "source": [
    "#step 5 step the weights. update the parameters based on the gradients just calculated\n",
    "lr = 1e-5\n",
    "params.data -= lr * params.grad.data\n",
    "params.grad = None"
   ]
  },
  {
   "cell_type": "code",
   "execution_count": 269,
   "metadata": {},
   "outputs": [
    {
     "data": {
      "text/plain": [
       "tensor(2573.4253, grad_fn=<MeanBackward0>)"
      ]
     },
     "execution_count": 269,
     "metadata": {},
     "output_type": "execute_result"
    }
   ],
   "source": [
    "#check if the loss has improved\n",
    "preds = f(time,params)\n",
    "mse(preds, speed)"
   ]
  },
  {
   "cell_type": "code",
   "execution_count": 270,
   "metadata": {},
   "outputs": [
    {
     "data": {
      "image/png": "[encoded data removed]",
      "text/plain": [
       "<Figure size 640x480 with 1 Axes>"
      ]
     },
     "metadata": {},
     "output_type": "display_data"
    }
   ],
   "source": [
    "show_preds(preds)"
   ]
  },
  {
   "cell_type": "code",
   "execution_count": 271,
   "metadata": {},
   "outputs": [],
   "source": [
    "#need to apply this a few times, so put it in a function so we can loop\n",
    "def apply_step(params, prn=True):\n",
    "    preds = f(time, params)\n",
    "    loss = mse(preds, speed)\n",
    "    loss.backward()\n",
    "    params.data -= lr * params.grad.data\n",
    "    params.grad = None\n",
    "    if prn: print(loss.item())\n",
    "    return preds"
   ]
  },
  {
   "cell_type": "code",
   "execution_count": 272,
   "metadata": {},
   "outputs": [
    {
     "name": "stdout",
     "output_type": "stream",
     "text": [
      "2573.42529296875\n",
      "1039.421630859375\n",
      "749.137939453125\n",
      "694.2039794921875\n",
      "683.8052978515625\n",
      "681.8340454101562\n",
      "681.4576416015625\n",
      "681.3829345703125\n",
      "681.3653564453125\n",
      "681.3585815429688\n"
     ]
    }
   ],
   "source": [
    "#step 6 Repeat the process\n",
    "for i in range(10): apply_step(params)"
   ]
  },
  {
   "cell_type": "code",
   "execution_count": 273,
   "metadata": {},
   "outputs": [],
   "source": [
    "params = orig_params.detach().requires_grad_()"
   ]
  },
  {
   "cell_type": "code",
   "execution_count": 274,
   "metadata": {},
   "outputs": [
    {
     "data": {
      "image/png": "[encoded data removed]",
      "text/plain": [
       "<Figure size 1200x300 with 4 Axes>"
      ]
     },
     "metadata": {},
     "output_type": "display_data"
    }
   ],
   "source": [
    "_,axs = plt.subplots(1,4,figsize=(12,3))\n",
    "for ax in axs: show_preds(apply_step(params, False), ax)\n",
    "plt.tight_layout()"
   ]
  },
  {
   "cell_type": "code",
   "execution_count": 275,
   "metadata": {},
   "outputs": [],
   "source": [
    "#step 7 Stop"
   ]
  },
  {
   "cell_type": "markdown",
   "metadata": {},
   "source": [
    "### Summarizing Gradient Descent"
   ]
  },
  {
   "cell_type": "code",
   "execution_count": 276,
   "metadata": {},
   "outputs": [
    {
     "data": {
      "image/svg+xml": [
       "<?xml version=\"1.0\" encoding=\"UTF-8\" standalone=\"no\"?>\n",
       "<!DOCTYPE svg PUBLIC \"-//W3C//DTD SVG 1.1//EN\"\n",
       " \"http://www.w3.org/Graphics/SVG/1.1/DTD/svg11.dtd\">\n",
       "<!-- Generated by graphviz version 7.1.0 (20230122.1345)\n",
       " -->\n",
       "<!-- Title: G Pages: 1 -->\n",
       "<svg width=\"661pt\" height=\"78pt\"\n",
       " viewBox=\"0.00 0.00 660.87 78.00\" xmlns=\"http://www.w3.org/2000/svg\" xmlns:xlink=\"http://www.w3.org/1999/xlink\">\n",
       "<g id=\"graph0\" class=\"graph\" transform=\"scale(1 1) rotate(0) translate(4 74)\">\n",
       "<title>G</title>\n",
       "<polygon fill=\"white\" stroke=\"none\" points=\"-4,4 -4,-74 656.87,-74 656.87,4 -4,4\"/>\n",
       "<!-- init -->\n",
       "<g id=\"node1\" class=\"node\">\n",
       "<title>init</title>\n",
       "<ellipse fill=\"none\" stroke=\"black\" cx=\"27\" cy=\"-18\" rx=\"27\" ry=\"18\"/>\n",
       "<text text-anchor=\"middle\" x=\"27\" y=\"-14.3\" font-family=\"Times,serif\" font-size=\"14.00\">init</text>\n",
       "</g>\n",
       "<!-- predict -->\n",
       "<g id=\"node2\" class=\"node\">\n",
       "<title>predict</title>\n",
       "<ellipse fill=\"none\" stroke=\"black\" cx=\"135.2\" cy=\"-18\" rx=\"44.39\" ry=\"18\"/>\n",
       "<text text-anchor=\"middle\" x=\"135.2\" y=\"-14.3\" font-family=\"Times,serif\" font-size=\"14.00\">predict</text>\n",
       "</g>\n",
       "<!-- init&#45;&gt;predict -->\n",
       "<g id=\"edge1\" class=\"edge\">\n",
       "<title>init&#45;&gt;predict</title>\n",
       "<path fill=\"none\" stroke=\"black\" d=\"M54.25,-18C61.85,-18 70.45,-18 79.12,-18\"/>\n",
       "<polygon fill=\"black\" stroke=\"black\" points=\"78.96,-21.5 88.96,-18 78.96,-14.5 78.96,-21.5\"/>\n",
       "</g>\n",
       "<!-- loss -->\n",
       "<g id=\"node3\" class=\"node\">\n",
       "<title>loss</title>\n",
       "<ellipse fill=\"none\" stroke=\"black\" cx=\"244.99\" cy=\"-52\" rx=\"28.7\" ry=\"18\"/>\n",
       "<text text-anchor=\"middle\" x=\"244.99\" y=\"-48.3\" font-family=\"Times,serif\" font-size=\"14.00\">loss</text>\n",
       "</g>\n",
       "<!-- predict&#45;&gt;loss -->\n",
       "<g id=\"edge2\" class=\"edge\">\n",
       "<title>predict&#45;&gt;loss</title>\n",
       "<path fill=\"none\" stroke=\"black\" d=\"M171.19,-29.04C182.93,-32.74 196.04,-36.88 207.87,-40.61\"/>\n",
       "<polygon fill=\"black\" stroke=\"black\" points=\"206.69,-43.9 217.28,-43.58 208.8,-37.23 206.69,-43.9\"/>\n",
       "</g>\n",
       "<!-- gradient -->\n",
       "<g id=\"node4\" class=\"node\">\n",
       "<title>gradient</title>\n",
       "<ellipse fill=\"none\" stroke=\"black\" cx=\"406.63\" cy=\"-52\" rx=\"50.09\" ry=\"18\"/>\n",
       "<text text-anchor=\"middle\" x=\"406.63\" y=\"-48.3\" font-family=\"Times,serif\" font-size=\"14.00\">gradient</text>\n",
       "</g>\n",
       "<!-- loss&#45;&gt;gradient -->\n",
       "<g id=\"edge3\" class=\"edge\">\n",
       "<title>loss&#45;&gt;gradient</title>\n",
       "<path fill=\"none\" stroke=\"black\" d=\"M274.16,-52C293.71,-52 320.51,-52 344.81,-52\"/>\n",
       "<polygon fill=\"black\" stroke=\"black\" points=\"344.61,-55.5 354.61,-52 344.61,-48.5 344.61,-55.5\"/>\n",
       "</g>\n",
       "<!-- step -->\n",
       "<g id=\"node5\" class=\"node\">\n",
       "<title>step</title>\n",
       "<ellipse fill=\"none\" stroke=\"black\" cx=\"524.23\" cy=\"-18\" rx=\"30.59\" ry=\"18\"/>\n",
       "<text text-anchor=\"middle\" x=\"524.23\" y=\"-14.3\" font-family=\"Times,serif\" font-size=\"14.00\">step</text>\n",
       "</g>\n",
       "<!-- gradient&#45;&gt;step -->\n",
       "<g id=\"edge4\" class=\"edge\">\n",
       "<title>gradient&#45;&gt;step</title>\n",
       "<path fill=\"none\" stroke=\"black\" d=\"M446.12,-40.68C458.69,-36.98 472.64,-32.88 485.18,-29.19\"/>\n",
       "<polygon fill=\"black\" stroke=\"black\" points=\"486.16,-32.55 494.77,-26.37 484.18,-25.84 486.16,-32.55\"/>\n",
       "</g>\n",
       "<!-- step&#45;&gt;predict -->\n",
       "<g id=\"edge6\" class=\"edge\">\n",
       "<title>step&#45;&gt;predict</title>\n",
       "<path fill=\"none\" stroke=\"black\" d=\"M493.24,-18C428.38,-18 274.25,-18 191.3,-18\"/>\n",
       "<polygon fill=\"black\" stroke=\"black\" points=\"191.35,-14.5 181.35,-18 191.35,-21.5 191.35,-14.5\"/>\n",
       "<text text-anchor=\"middle\" x=\"315.09\" y=\"-21.8\" font-family=\"Times,serif\" font-size=\"14.00\">repeat</text>\n",
       "</g>\n",
       "<!-- stop -->\n",
       "<g id=\"node6\" class=\"node\">\n",
       "<title>stop</title>\n",
       "<ellipse fill=\"none\" stroke=\"black\" cx=\"622.32\" cy=\"-18\" rx=\"30.59\" ry=\"18\"/>\n",
       "<text text-anchor=\"middle\" x=\"622.32\" y=\"-14.3\" font-family=\"Times,serif\" font-size=\"14.00\">stop</text>\n",
       "</g>\n",
       "<!-- step&#45;&gt;stop -->\n",
       "<g id=\"edge5\" class=\"edge\">\n",
       "<title>step&#45;&gt;stop</title>\n",
       "<path fill=\"none\" stroke=\"black\" d=\"M555.1,-18C563.06,-18 571.79,-18 580.23,-18\"/>\n",
       "<polygon fill=\"black\" stroke=\"black\" points=\"579.95,-21.5 589.95,-18 579.95,-14.5 579.95,-21.5\"/>\n",
       "</g>\n",
       "</g>\n",
       "</svg>\n"
      ],
      "text/plain": [
       "<graphviz.sources.Source at 0x7f89750c9c00>"
      ]
     },
     "execution_count": 276,
     "metadata": {},
     "output_type": "execute_result"
    }
   ],
   "source": [
    "#hide_input\n",
    "#id gradient_descent\n",
    "#caption The gradient descent process\n",
    "#alt Graph showing the steps for Gradient Descent\n",
    "gv('''\n",
    "init->predict->loss->gradient->step->stop\n",
    "step->predict[label=repeat]\n",
    "''')"
   ]
  },
  {
   "cell_type": "markdown",
   "metadata": {},
   "source": [
    "## The MNist Loss Function  "
   ]
  },
  {
   "cell_type": "code",
   "execution_count": 277,
   "metadata": {},
   "outputs": [],
   "source": [
    "train_x = torch.cat([stacked_threes, stacked_sevens]).view(-1, 28*28)"
   ]
  },
  {
   "cell_type": "code",
   "execution_count": 278,
   "metadata": {},
   "outputs": [
    {
     "data": {
      "text/plain": [
       "tensor([[0., 0., 0.,  ..., 0., 0., 0.],\n",
       "        [0., 0., 0.,  ..., 0., 0., 0.],\n",
       "        [0., 0., 0.,  ..., 0., 0., 0.],\n",
       "        ...,\n",
       "        [0., 0., 0.,  ..., 0., 0., 0.],\n",
       "        [0., 0., 0.,  ..., 0., 0., 0.],\n",
       "        [0., 0., 0.,  ..., 0., 0., 0.]])"
      ]
     },
     "execution_count": 278,
     "metadata": {},
     "output_type": "execute_result"
    }
   ],
   "source": [
    "train_x"
   ]
  },
  {
   "cell_type": "code",
   "execution_count": 291,
   "metadata": {},
   "outputs": [
    {
     "data": {
      "text/plain": [
       "tensor([1, 1, 1,  ..., 0, 0, 0])"
      ]
     },
     "execution_count": 291,
     "metadata": {},
     "output_type": "execute_result"
    }
   ],
   "source": [
    "tensor([1]*len(threes) + [0]*len(sevens))"
   ]
  },
  {
   "cell_type": "code",
   "execution_count": 298,
   "metadata": {},
   "outputs": [
    {
     "data": {
      "text/plain": [
       "torch.Size([12396])"
      ]
     },
     "execution_count": 298,
     "metadata": {},
     "output_type": "execute_result"
    }
   ],
   "source": [
    "tensor([1]*len(threes) + [0]*len(sevens)).shape"
   ]
  },
  {
   "cell_type": "code",
   "execution_count": 302,
   "metadata": {},
   "outputs": [
    {
     "data": {
      "text/plain": [
       "torch.Size([1, 12396])"
      ]
     },
     "execution_count": 302,
     "metadata": {},
     "output_type": "execute_result"
    }
   ],
   "source": [
    "tensor([1]*len(threes) + [0]*len(sevens)).unsqueeze(0).shape"
   ]
  },
  {
   "cell_type": "code",
   "execution_count": 303,
   "metadata": {},
   "outputs": [
    {
     "data": {
      "text/plain": [
       "torch.Size([12396, 1])"
      ]
     },
     "execution_count": 303,
     "metadata": {},
     "output_type": "execute_result"
    }
   ],
   "source": [
    "tensor([1]*len(threes) + [0]*len(sevens)).unsqueeze(1).shape"
   ]
  },
  {
   "cell_type": "code",
   "execution_count": 304,
   "metadata": {},
   "outputs": [],
   "source": [
    "# Add label to each image.\n",
    "# 1 for 3s\n",
    "# 0 for 7s\n",
    "train_y = tensor([1]*len(threes) + [0]*len(sevens)).unsqueeze(1)\n"
   ]
  },
  {
   "cell_type": "code",
   "execution_count": null,
   "metadata": {},
   "outputs": [],
   "source": []
  },
  {
   "cell_type": "code",
   "execution_count": 305,
   "metadata": {},
   "outputs": [
    {
     "data": {
      "text/plain": [
       "(torch.Size([12396, 784]), torch.Size([12396, 1]))"
      ]
     },
     "execution_count": 305,
     "metadata": {},
     "output_type": "execute_result"
    }
   ],
   "source": [
    "train_x.shape,train_y.shape"
   ]
  },
  {
   "cell_type": "code",
   "execution_count": 306,
   "metadata": {},
   "outputs": [
    {
     "data": {
      "text/plain": [
       "tensor([1, 2, 3, 4])"
      ]
     },
     "execution_count": 306,
     "metadata": {},
     "output_type": "execute_result"
    }
   ],
   "source": [
    "#https://pytorch.org/docs/stable/generated/torch.unsqueeze.html\n",
    "x = torch.tensor([1,2,3,4])\n",
    "x"
   ]
  },
  {
   "cell_type": "code",
   "execution_count": 307,
   "metadata": {},
   "outputs": [
    {
     "data": {
      "text/plain": [
       "tensor([[1, 2, 3, 4]])"
      ]
     },
     "execution_count": 307,
     "metadata": {},
     "output_type": "execute_result"
    }
   ],
   "source": [
    "torch.unsqueeze(x, 0)"
   ]
  },
  {
   "cell_type": "code",
   "execution_count": 308,
   "metadata": {},
   "outputs": [
    {
     "data": {
      "text/plain": [
       "tensor([[1],\n",
       "        [2],\n",
       "        [3],\n",
       "        [4]])"
      ]
     },
     "execution_count": 308,
     "metadata": {},
     "output_type": "execute_result"
    }
   ],
   "source": [
    "torch.unsqueeze(x, 1)"
   ]
  },
  {
   "cell_type": "code",
   "execution_count": 309,
   "metadata": {},
   "outputs": [
    {
     "data": {
      "text/plain": [
       "tensor([[1, 2],\n",
       "        [3, 4],\n",
       "        [5, 6]])"
      ]
     },
     "execution_count": 309,
     "metadata": {},
     "output_type": "execute_result"
    }
   ],
   "source": [
    "y = torch.tensor([[1,2],[3,4],[5,6]])\n",
    "y"
   ]
  },
  {
   "cell_type": "code",
   "execution_count": 310,
   "metadata": {},
   "outputs": [
    {
     "data": {
      "text/plain": [
       "tensor([[[1, 2],\n",
       "         [3, 4],\n",
       "         [5, 6]]])"
      ]
     },
     "execution_count": 310,
     "metadata": {},
     "output_type": "execute_result"
    }
   ],
   "source": [
    "torch.unsqueeze(y,0)"
   ]
  },
  {
   "cell_type": "code",
   "execution_count": 288,
   "metadata": {},
   "outputs": [
    {
     "data": {
      "text/plain": [
       "tensor([[[1, 2]],\n",
       "\n",
       "        [[3, 4]],\n",
       "\n",
       "        [[5, 6]]])"
      ]
     },
     "execution_count": 288,
     "metadata": {},
     "output_type": "execute_result"
    }
   ],
   "source": [
    "torch.unsqueeze(y,1)"
   ]
  },
  {
   "cell_type": "code",
   "execution_count": null,
   "metadata": {},
   "outputs": [],
   "source": [
    " "
   ]
  }
 ],
 "metadata": {
  "kernelspec": {
   "display_name": "Python 3 (ipykernel)",
   "language": "python",
   "name": "python3"
  },
  "language_info": {
   "codemirror_mode": {
    "name": "ipython",
    "version": 3
   },
   "file_extension": ".py",
   "mimetype": "text/x-python",
   "name": "python",
   "nbconvert_exporter": "python",
   "pygments_lexer": "ipython3",
   "version": "3.10.12"
  }
 },
 "nbformat": 4,
 "nbformat_minor": 5
}
