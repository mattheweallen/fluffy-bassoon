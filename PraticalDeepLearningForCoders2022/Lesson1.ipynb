{
 "cells": [
  {
   "cell_type": "markdown",
   "id": "59047d49-eca3-48b8-9e8f-13f10add4225",
   "metadata": {},
   "source": [
    "https://www.youtube.com/watch?v=8SF_h3xF3cEb"
   ]
  },
  {
   "cell_type": "code",
   "execution_count": 1,
   "id": "69b24911-f871-45c2-a3d3-9ea36a68e80d",
   "metadata": {},
   "outputs": [],
   "source": [
    "from fastbook import *"
   ]
  },
  {
   "cell_type": "code",
   "execution_count": 2,
   "id": "7db63a8d-2992-48dd-aa19-c0022a3bdc5a",
   "metadata": {},
   "outputs": [
    {
     "data": {
      "text/plain": [
       "(1,\n",
       " 'http://s1.picswalls.com/wallpapers/2014/07/18/birds-picture_104548844_54.jpg')"
      ]
     },
     "execution_count": 2,
     "metadata": {},
     "output_type": "execute_result"
    }
   ],
   "source": [
    "urls = search_images_ddg('bird photos', max_images=1)\n",
    "len(urls),urls[0]"
   ]
  },
  {
   "cell_type": "code",
   "execution_count": null,
   "id": "f00d3ea3-3b46-4c76-9136-ef0df53a1d32",
   "metadata": {},
   "outputs": [],
   "source": [
    "#put the hydragea arbovitae code here"
   ]
  }
 ],
 "metadata": {
  "kernelspec": {
   "display_name": "Python 3 (ipykernel)",
   "language": "python",
   "name": "python3"
  },
  "language_info": {
   "codemirror_mode": {
    "name": "ipython",
    "version": 3
   },
   "file_extension": ".py",
   "mimetype": "text/x-python",
   "name": "python",
   "nbconvert_exporter": "python",
   "pygments_lexer": "ipython3",
   "version": "3.10.12"
  }
 },
 "nbformat": 4,
 "nbformat_minor": 5
}
